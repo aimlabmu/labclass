{
 "cells": [
  {
   "cell_type": "code",
   "execution_count": null,
   "metadata": {},
   "outputs": [],
   "source": [
    "import clipboard\n",
    "\n",
    "def linkGen(header, quiet=True):\n",
    "    temp = '#' + header.replace(' ', '-')\n",
    "    clipboard.copy(temp)\n",
    "    print(temp, \"is copied to clipboard!\")\n",
    "    \n",
    "    if quiet:\n",
    "        return None\n",
    "    else:\n",
    "        return temp"
   ]
  },
  {
   "cell_type": "code",
   "execution_count": null,
   "metadata": {},
   "outputs": [],
   "source": [
    "linkGen('Mathematics and Statistics packages')"
   ]
  },
  {
   "cell_type": "markdown",
   "metadata": {},
   "source": [
    "# Table of Contents\n",
    "\n",
    "- [Introduction](#Introduction)\n",
    "    - [What is Python and Jupyter Notebook?](#What-is-Python-and-Jupyter-Notebook?)\n",
    "    - [Why should we know them?](#Why-should-we-know-them?)\n",
    "    - [Where can I get it?](#Where-can-I-get-it?)\n",
    "        - [Anaconda Cloud](#Anaconda-Cloud)\n",
    "        - [Package Managers](#Package-Managers)\n",
    "        \n",
    "        \n",
    "- [Jupyter Notebook](#Jupyter-Notebook)\n",
    "    - [How to use it?](#How-to-use-it?)        \n",
    "    \n",
    "    \n",
    "- [Python](#Basic-Python)\n",
    "    - [Built-in functions and basic control flow](#Built-in-functions-and-basic-control-flow)\n",
    "    - [Mathematics and Statistics packages](#Mathematics-and-Statistics-packages)\n",
    "\n",
    "- [Learning Materials](#Learning-Materials)"
   ]
  },
  {
   "cell_type": "markdown",
   "metadata": {},
   "source": [
    "# Introduction\n",
    "\n",
    "## What is Python and Jupyter Notebook?\n",
    "\n",
    "> [Python.org](https://www.python.org/):\n",
    "\n",
    "> Python is a programming language that lets you work quickly and integrate systems more effectively. \n",
    "\n",
    "> [Jupyter.org](http://jupyter.org/):\n",
    "\n",
    "> Project Jupyter exists to develop open-source software, open-standards, and services for interactive computing across dozens of programming languages. \n",
    "\n",
    "## Why should we know them?\n",
    "\n",
    "In academic and research we can use Python and its lots of labraries to do wide range of things from basic calculation to complex statistical methods including machine learning. Since it is open-source, it is free to use.\n",
    "\n",
    "## Where can I get it?\n",
    "\n",
    "There are many ways to install Python and its libraries. However, we are going to guide you in a pretty stable way, Anaconda.\n",
    "\n",
    "#### Anaconda Cloud\n",
    "\n",
    "Anaconda is a platform for Python that bundles most of the essential packages required in research. You can download it from [here](https://www.anaconda.com/download/). [_Note that we will use Python version 3.x in this course._]\n",
    "\n",
    "> [Anaconda.org](https://anaconda.org/):\n",
    "\n",
    "> Anaconda Cloud is where data scientists share their work. You can search and download popular Python and R packages and notebooks to jumpstart your data science work.\n",
    "\n",
    "\n",
    "#### Package Managers\n",
    "\n",
    "We do not need to install any additional packages in this class. However, when you need it in the future recall these two names: `pip` and `conda`. For more information you can check [this](https://conda.io/docs/user-guide/tasks/manage-pkgs.html#installing-packages) out."
   ]
  },
  {
   "cell_type": "markdown",
   "metadata": {},
   "source": [
    "# Jupyter Notebook\n",
    "\n",
    "## How to use it?\n",
    "\n",
    "To use Jupyter Notebook (which you are using) you would need to have basic knowledge in command line interface (cli). Here is an example on how to start Jupyter Notebook from start.\n",
    "\n",
    "- Open Terminal (Mac/Linux) or Command Prompt (Windows).\n",
    "- `cd` into project folder where your `.ipynb` file live.\n",
    "- Run `Jupyter Notebook` in that folder.\n",
    "\n",
    "You should see something like this:\n",
    "\n",
    "```sh\n",
    "C:\\Users\\username> mkdir labclass\n",
    "C:\\Users\\username> cd labclass\n",
    "C:\\Users\\username\\labclass> jupyter notebook\n",
    "[I 10:26:00.076 NotebookApp] Serving notebooks from local directory: /Users/username/labclass\n",
    "[I 10:26:00.076 NotebookApp] 0 active kernels\n",
    "[I 10:26:00.076 NotebookApp] The Jupyter Notebook is running at: http://localhost:8888/?token=xxxxxxxxxxxxxxxxxxxxxxxxxxxxxxxxxxxxxxxx\n",
    "[I 10:26:00.076 NotebookApp] Use Control-C to stop this server and shut down all kernels (twice to skip confirmation).\n",
    "[C 10:26:00.076 NotebookApp]\n",
    "\n",
    "    Copy/paste this URL into your browser when you connect for the first time,\n",
    "    to login with a token:\n",
    "        http://localhost:8888/?token=xxxxxxxxxxxxxxxxxxxxxxxxxxxxxxxxxxxxxxxx\n",
    "\n",
    "```"
   ]
  },
  {
   "cell_type": "markdown",
   "metadata": {},
   "source": [
    "# Python\n",
    "\n",
    "\n",
    "## Built-in functions and basic control flow\n",
    "\n",
    "Here we will try to write some Python built-in functions to get how it works. This is brought from official Python website. For more information follow the [official tutorial](https://docs.python.org/3/tutorial/).\n",
    "\n"
   ]
  },
  {
   "cell_type": "code",
   "execution_count": null,
   "metadata": {},
   "outputs": [],
   "source": [
    "# print function\n",
    "print(\"Hello, I'm Python!\")"
   ]
  },
  {
   "cell_type": "code",
   "execution_count": null,
   "metadata": {},
   "outputs": [],
   "source": [
    "# arithmatic\n",
    "print(1+3) # plus\n",
    "print(2-1) # minus\n",
    "print(3*6) # multiply\n",
    "print(2**3) # power\n",
    "print(17/3) # divide\n",
    "print(17//3) # floor divide"
   ]
  },
  {
   "cell_type": "code",
   "execution_count": null,
   "metadata": {},
   "outputs": [],
   "source": [
    "# compound data\n",
    "# list\n",
    "fruits = ['Banana', 'Apple', 'Lime']\n",
    "loud_fruits = [fruit.upper() for fruit in fruits]\n",
    "print(loud_fruits)\n",
    "\n",
    "# ist and the enumerate function\n",
    "print(list(enumerate(fruits)))"
   ]
  },
  {
   "cell_type": "code",
   "execution_count": null,
   "metadata": {},
   "outputs": [],
   "source": [
    "# conditions\n",
    "x = -1\n",
    "\n",
    "if x < 0:\n",
    "    x = 0\n",
    "    print('Negative changed to zero')\n",
    "elif x == 0:\n",
    "    print('Zero')\n",
    "elif x == 1:\n",
    "    print('Single')\n",
    "else:\n",
    "    print('More')"
   ]
  },
  {
   "cell_type": "code",
   "execution_count": null,
   "metadata": {},
   "outputs": [],
   "source": [
    "# for loop\n",
    "words = ['cat', 'window', 'defenestrate']\n",
    "for w in words:\n",
    "    print(w, len(w))\n",
    "    \n",
    "for w in words[:]:  # Loop over a slice copy of the entire list.\n",
    "    if len(w) > 6:\n",
    "        words.insert(0, w)\n",
    "        "
   ]
  },
  {
   "cell_type": "code",
   "execution_count": null,
   "metadata": {},
   "outputs": [],
   "source": [
    "# for loop 2\n",
    "for i in range(5):\n",
    "    print(i)\n",
    "    \n",
    "a = ['Mary', 'had', 'a', 'little', 'lamb']\n",
    "for i in range(len(a)):\n",
    "    print(i, a[i])"
   ]
  },
  {
   "cell_type": "code",
   "execution_count": null,
   "metadata": {},
   "outputs": [],
   "source": [
    "# while loop\n",
    "x = 0\n",
    "while x < 10:\n",
    "    print(x)\n",
    "    x += 1"
   ]
  },
  {
   "cell_type": "code",
   "execution_count": null,
   "metadata": {},
   "outputs": [],
   "source": [
    "# functions\n",
    "# Python 3: Fibonacci series up to n\n",
    "def fib(n):\n",
    "    a, b = 0, 1\n",
    "    while a < n:\n",
    "        print(a, end=' ')\n",
    "        a, b = b, a+b\n",
    "    print()\n",
    "    \n",
    "fib(1000)"
   ]
  },
  {
   "cell_type": "markdown",
   "metadata": {},
   "source": [
    "## Mathematics and Statistics packages\n",
    "\n",
    "In research we will inevitably have to do some statistics. It is good to know how we can do mathematics and statistics operation with Python. As we are using Anaconda which already installed most required packages, so you do not need to install additional package here.\n",
    "\n",
    "The packages we will learn today are `numpy`, `pandas` and `matplotlib`."
   ]
  },
  {
   "cell_type": "markdown",
   "metadata": {},
   "source": [
    "### NumPy\n",
    "\n",
    "NumPy is a python library to help dealing with mathematics especially array. As it can do so many things, the examples listed below may not be able to cover all. For more information, you can visit [NumPy's official tutorial](https://docs.scipy.org/doc/numpy-dev/user/quickstart.html)."
   ]
  },
  {
   "cell_type": "code",
   "execution_count": null,
   "metadata": {},
   "outputs": [],
   "source": [
    "import numpy as np\n",
    "\n",
    "# create array of range [0, 15)\n",
    "a = np.arange(15)\n",
    "print(\"basic array:\", a)\n",
    "\n",
    "# reshape array\n",
    "print(\"\\nreshaped:\", a.reshape([3, 5]))\n",
    "\n",
    "# or do it at once\n",
    "print(\"\\nall at once:\", np.arange(15).reshape([3, 5]))"
   ]
  },
  {
   "cell_type": "code",
   "execution_count": null,
   "metadata": {},
   "outputs": [],
   "source": [
    "# create array from list\n",
    "mylist = [1,2,3,4]\n",
    "print(\"array from list:\", np.array(mylist))\n",
    "\n",
    "# create 2d array\n",
    "print(\"\\n2d array:\", np.array([mylist, mylist]))\n",
    "print(\"\\ncheck dimension:\", np.array([mylist, mylist]).shape, \"<- 2 rows 4 columns\")"
   ]
  },
  {
   "cell_type": "code",
   "execution_count": null,
   "metadata": {},
   "outputs": [],
   "source": [
    "# create array of ones\n",
    "print(\"array of ones:\", np.ones([3,3]))\n",
    "\n",
    "# create array of zeros\n",
    "print(\"\\narray of zeros:\", np.zeros([5,5]))\n",
    "\n",
    "# some constants\n",
    "print(\"\\npi:\", np.pi)\n",
    "print(\"e:\", np.e)\n",
    "\n",
    "# basic arithmetics\n",
    "print(\"\\nsum, 1+2+3+4+5:\", np.sum([1,2,3,4,5]))\n",
    "print(\"power, 2^8:\", np.power(2, 8))"
   ]
  },
  {
   "cell_type": "markdown",
   "metadata": {},
   "source": [
    "### pandas\n",
    "\n",
    "pandas is an easy-to-use python library for data structures and data analysis. pandas implements a number of statistical functions that can be used in research. You can learn more about pandas in these pandas's official quick start tutorials:\n",
    "\n",
    "- [10 mins tutorials](https://pandas.pydata.org/pandas-docs/stable/10min.html#min)\n",
    "- [pandas tutorials](https://pandas.pydata.org/pandas-docs/stable/tutorials.html)"
   ]
  },
  {
   "cell_type": "code",
   "execution_count": null,
   "metadata": {},
   "outputs": [],
   "source": [
    "import pandas as pd\n",
    "\n",
    "df_for_line = pd.DataFrame(np.random.rand(100, 1), columns=['col1'])\n",
    "df_for_scatter = pd.DataFrame(np.random.rand(5,2), columns=['col1','col2'])\n",
    "df_for_bar = pd.DataFrame(np.random.rand(5, 1), columns=['col1'])\n",
    "\n",
    "print(df_for_scatter)\n",
    "\n",
    "# create new dataframe by concatenate existing ones\n",
    "new_df_concat_down = pd.concat([df_for_scatter[3:], df_for_scatter[3:]]) # use [3:] to shorten\n",
    "new_df_concat_side = pd.concat([df_for_scatter, df_for_scatter], axis=1)"
   ]
  },
  {
   "cell_type": "code",
   "execution_count": null,
   "metadata": {},
   "outputs": [],
   "source": [
    "# we can also see dataframe rendered as HTML\n",
    "df_for_scatter"
   ]
  },
  {
   "cell_type": "code",
   "execution_count": null,
   "metadata": {},
   "outputs": [],
   "source": [
    "# notice index start from 3 instead of 0\n",
    "new_df_concat_down"
   ]
  },
  {
   "cell_type": "code",
   "execution_count": null,
   "metadata": {},
   "outputs": [],
   "source": [
    "new_df_concat_side"
   ]
  },
  {
   "cell_type": "markdown",
   "metadata": {},
   "source": [
    "### Matplotlib"
   ]
  },
  {
   "cell_type": "code",
   "execution_count": null,
   "metadata": {},
   "outputs": [],
   "source": [
    "import matplotlib.pyplot as plt\n",
    "%matplotlib inline\n",
    "\n",
    "plt.plot(df_for_line)\n",
    "plt.title('Line plot')\n",
    "plt.figure()\n",
    "\n",
    "plt.scatter(df_for_scatter.col1, df_for_scatter.col2)\n",
    "plt.title('Scatter plot')\n",
    "plt.figure()\n",
    "\n",
    "plt.bar(df_for_bar.index, df_for_bar.col1)\n",
    "plt.title('Bar plot')\n",
    "plt.figure()\n",
    "\n",
    "from skimage import data\n",
    "\n",
    "plt.imshow(data.chelsea())"
   ]
  },
  {
   "cell_type": "markdown",
   "metadata": {},
   "source": [
    "# Assignment\n",
    "\n",
    "The assignment requires you to use some libraries other than what we have learnt today such as [SciPy](https://docs.scipy.org/doc/scipy/reference/index.html) and [scikit-image](http://scikit-image.org/). Three main tasks that you are going to do are **Loading data**, **Processing or Analysis**, and **Visualization**.\n",
    "\n",
    "[Click here to open assignment notebook.](Assignment.ipynb)"
   ]
  },
  {
   "cell_type": "markdown",
   "metadata": {},
   "source": [
    "# FAQs\n",
    "\n",
    "- **How should I search when I am stuck?**\n",
    "    - You can use google with specific keywords. For example, if you are doing some table processing using `pandas`, you should include `pandas` in keyword instead of `python`.\n",
    "    \n",
    "    \n",
    "- **What sources from search results should I set higher priority to check out?**\n",
    "    - This can be various, but first top focus should include **StackOverflow**, **GitHub**, and official sites of Python or packages in question."
   ]
  },
  {
   "cell_type": "markdown",
   "metadata": {},
   "source": [
    "# Learning Materials\n",
    "\n",
    "- [Official Python tutorial](https://docs.python.org/3/tutorial/)\n",
    "- [Chula's Python 101](https://www.cp.eng.chula.ac.th/books/python101/)"
   ]
  }
 ],
 "metadata": {
  "language_info": {
   "name": "python",
   "pygments_lexer": "ipython3"
  }
 },
 "nbformat": 4,
 "nbformat_minor": 2
}
