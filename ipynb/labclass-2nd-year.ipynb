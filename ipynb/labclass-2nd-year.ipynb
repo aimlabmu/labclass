{
 "cells": [
  {
   "cell_type": "markdown",
   "metadata": {},
   "source": [
    "# Introduction to Python and Jupyter Notebook\n",
    "\n",
    "## What is Python and Jupyter Notebook?\n",
    "\n",
    "> [Python.org](https://www.python.org/):\n",
    "\n",
    "> Python is a programming language that lets you work quickly and integrate systems more effectively. \n",
    "\n",
    "> [Jupyter.org](http://jupyter.org/):\n",
    "\n",
    "> Project Jupyter exists to develop open-source software, open-standards, and services for interactive computing across dozens of programming languages. \n",
    "\n",
    "## Why should we know them?\n",
    "\n",
    "In academic and research we can use Python and its lots of labraries to do wide range of things from basic calculation to complex statistical methods including machine learning. Since it is open-source, it is free to use.\n",
    "\n",
    "## Where can I get it?\n",
    "\n",
    "There are many ways to install Python and its libraries. However, we are going to guide you in a pretty stable way, Anaconda.\n",
    "\n",
    "#### Anaconda Cloud\n",
    "\n",
    "> [Anaconda.org](https://anaconda.org/):\n",
    "\n",
    "> Anaconda Cloud is where data scientists share their work. You can search and download popular Python and R packages and notebooks to jumpstart your data science work.\n",
    "\n",
    "Anaconda is a platform for Python that bundles most of the essential packages required in research. You can download it from [here](https://www.anaconda.com/download/). \n",
    "\n",
    "_// Note that we will use Python version 3.x in this course._\n",
    "\n",
    "\n",
    "#### Package Managers\n",
    "\n",
    "We do not need to install any additional packages in this class. However, when you need it in the future recall these two names: `pip` and `conda`. For more information you can check [this](https://conda.io/docs/user-guide/tasks/manage-pkgs.html#installing-packages) out."
   ]
  },
  {
   "cell_type": "markdown",
   "metadata": {},
   "source": [
    "# Basic Python\n",
    "\n",
    "Here we will try to write some Python built-in functions to get how it works. This is brought from official Python website. For more information follow the [official tutorial](https://docs.python.org/3/tutorial/)."
   ]
  },
  {
   "cell_type": "code",
   "execution_count": null,
   "metadata": {},
   "outputs": [],
   "source": [
    "# print function\n",
    "print(\"Hello, I'm Python!\")"
   ]
  },
  {
   "cell_type": "code",
   "execution_count": null,
   "metadata": {},
   "outputs": [],
   "source": [
    "# arithmatic\n",
    "print(1+3) # plus\n",
    "print(2-1) # minus\n",
    "print(3*6) # multiply\n",
    "print(2**3) # power\n",
    "print(17/3) # divide\n",
    "print(17//3) # floor divide"
   ]
  },
  {
   "cell_type": "code",
   "execution_count": null,
   "metadata": {},
   "outputs": [],
   "source": [
    "# compound data\n",
    "# list\n",
    "fruits = ['Banana', 'Apple', 'Lime']\n",
    "loud_fruits = [fruit.upper() for fruit in fruits]\n",
    "print(loud_fruits)\n",
    "\n",
    "# ist and the enumerate function\n",
    "print(list(enumerate(fruits)))"
   ]
  },
  {
   "cell_type": "code",
   "execution_count": null,
   "metadata": {},
   "outputs": [],
   "source": [
    "# conditions\n",
    "x = -1\n",
    "\n",
    "if x < 0:\n",
    "    x = 0\n",
    "    print('Negative changed to zero')\n",
    "elif x == 0:\n",
    "    print('Zero')\n",
    "elif x == 1:\n",
    "    print('Single')\n",
    "else:\n",
    "    print('More')"
   ]
  },
  {
   "cell_type": "code",
   "execution_count": null,
   "metadata": {},
   "outputs": [],
   "source": [
    "# for loop\n",
    "words = ['cat', 'window', 'defenestrate']\n",
    "for w in words:\n",
    "    print(w, len(w))\n",
    "    \n",
    "for w in words[:]:  # Loop over a slice copy of the entire list.\n",
    "    if len(w) > 6:\n",
    "        words.insert(0, w)\n",
    "        "
   ]
  },
  {
   "cell_type": "code",
   "execution_count": null,
   "metadata": {},
   "outputs": [],
   "source": [
    "# for loop 2\n",
    "for i in range(5):\n",
    "    print(i)\n",
    "    \n",
    "a = ['Mary', 'had', 'a', 'little', 'lamb']\n",
    "for i in range(len(a)):\n",
    "    print(i, a[i])"
   ]
  },
  {
   "cell_type": "code",
   "execution_count": null,
   "metadata": {},
   "outputs": [],
   "source": [
    "# functions\n",
    "# Python 3: Fibonacci series up to n\n",
    "def fib(n):\n",
    "    a, b = 0, 1\n",
    "    while a < n:\n",
    "        print(a, end=' ')\n",
    "        a, b = b, a+b\n",
    "    print()\n",
    "    \n",
    "fib(1000)"
   ]
  },
  {
   "cell_type": "markdown",
   "metadata": {},
   "source": [
    "## Learning Materials\n",
    "\n",
    "- [Chula's Python 101](https://www.cp.eng.chula.ac.th/books/python101/)"
   ]
  }
 ],
 "metadata": {
  "language_info": {
   "name": "python",
   "pygments_lexer": "ipython3"
  }
 },
 "nbformat": 4,
 "nbformat_minor": 2
}
