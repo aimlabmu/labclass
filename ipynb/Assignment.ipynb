{
 "cells": [
  {
   "cell_type": "markdown",
   "metadata": {},
   "source": [
    "# Assignment\n",
    "The assignment requires you to use some libraries other than what we have learnt today such as [SciPy](https://docs.scipy.org/doc/scipy/reference/index.html) and [scikit-image](http://scikit-image.org/). Three main tasks that you are going to do are **Loading data**, **Processing or Analysis**, and **Visualization**."
   ]
  },
  {
   "cell_type": "markdown",
   "metadata": {},
   "source": [
    "## Loading data\n",
    "\n",
    "- There are several data set available in `data` folder. The data is in `.csv` format.\n",
    "- You can list filename directly in this jupyter notebook cell by command `ls ../data`.\n",
    "- You can also use example images from [scikit-image data module](http://scikit-image.org/docs/stable/api/skimage.data.html)."
   ]
  },
  {
   "cell_type": "code",
   "execution_count": null,
   "metadata": {},
   "outputs": [],
   "source": [
    "ls ../data"
   ]
  },
  {
   "cell_type": "markdown",
   "metadata": {},
   "source": [
    "## Processing or Analysis\n",
    "\n",
    "- You can do anything on the data start from sum or finding average of the values, the more the better.\n",
    "- If you can apply any other functions not in an example, that will be good for you.\n",
    "- Some methods as an idea to do are: sum, mean, subtract, groupby.\n",
    "- Main modules to be used are loaded in the next cell."
   ]
  },
  {
   "cell_type": "code",
   "execution_count": null,
   "metadata": {},
   "outputs": [],
   "source": [
    "import numpy as np\n",
    "import pandas as pd\n",
    "import matplotlib.pyplot as plt\n",
    "from os import pardir, path\n",
    "%matplotlib inline\n",
    "\n",
    "# to be able to render thai font\n",
    "# on linux system, uses 'Loma'\n",
    "# on windows system, uses 'Angsana New' or 'TH SarabunPSK'\n",
    "plt.rcParams[\"font.family\"] = [\"Loma\", 'Angsana New', 'TH SarabunPSK']"
   ]
  },
  {
   "cell_type": "code",
   "execution_count": null,
   "metadata": {},
   "outputs": [],
   "source": [
    "# define function to return full path of data from data filename\n",
    "\n",
    "def dp(dataFileName):\n",
    "    '''\n",
    "    This function is used to get full data path (dp) from data file name.\n",
    "    '''\n",
    "    return path.join(pardir, 'data', dataFileName)"
   ]
  },
  {
   "cell_type": "code",
   "execution_count": null,
   "metadata": {},
   "outputs": [],
   "source": [
    "# here we get data from https://data.go.th/\n",
    "# some of them are encoded with 'utf-8' some of them are 'cp874'\n",
    "# you will know when you first load data, if it cannot be read change encoding\n",
    "\n",
    "df = pd.read_csv(dp('ปริมาณจราจร_2558.csv'), encoding='cp874')\n",
    "# df = pd.read_csv(dp('ปริมาณการเดินทาง_2558.csv'))"
   ]
  },
  {
   "cell_type": "markdown",
   "metadata": {},
   "source": [
    "## Visualization\n",
    "\n",
    "- Matplotlib is important here. However if you don't need to customize the plot just used `plot` from `pandas` should be ok.\n",
    "- We will give 2 examples for visualization here, the first one will be just plot one column of data, the second will be selecting desired columns to plot."
   ]
  },
  {
   "cell_type": "markdown",
   "metadata": {},
   "source": [
    "### Plotting single column\n",
    "\n",
    "In fact you can just plot the whole dataframe by appending `.plot()` to dataframe object. However that would normally be useless. So we need to select what we want to see. In first case we will find what we want to look at. From the cell below, suppose we want to see **'%รถบรรทุก HVTOT'**."
   ]
  },
  {
   "cell_type": "code",
   "execution_count": null,
   "metadata": {},
   "outputs": [],
   "source": [
    "df.columns.unique().tolist()"
   ]
  },
  {
   "cell_type": "code",
   "execution_count": null,
   "metadata": {},
   "outputs": [],
   "source": [
    "# copy data to plot to another dataframe and then plot\n",
    "\n",
    "df_to_plot = df['%รถบรรทุก HVTOT']\n",
    "df_to_plot.plot(figsize=(18,5))"
   ]
  },
  {
   "cell_type": "markdown",
   "metadata": {},
   "source": [
    "### Plotting selected columns\n",
    "\n",
    "To plot multiple columns, we first need to choose which columns to plot. Read through the example below."
   ]
  },
  {
   "cell_type": "code",
   "execution_count": null,
   "metadata": {},
   "outputs": [],
   "source": [
    "# look at list of columns name below and select what to plot\n",
    "for i, item in enumerate(df.columns.unique().tolist()):\n",
    "    print(i, item)"
   ]
  },
  {
   "cell_type": "code",
   "execution_count": null,
   "metadata": {},
   "outputs": [],
   "source": [
    "# suppose we need columns from 'รถจักรยาน2 ล้อ/3ล้อ VEH1_T' to 'รถเครื่องจักรและรถดัดแปลง VEH13_T' (15 to 27)\n",
    "\n",
    "df_to_plot = df.iloc[:, 15:27]\n",
    "\n",
    "# iloc means index location\n",
    "# : means selecting all rows\n",
    "# 15:27 means selecting columns from 15 to 27"
   ]
  },
  {
   "cell_type": "code",
   "execution_count": null,
   "metadata": {},
   "outputs": [],
   "source": [
    "# try plotting\n",
    "\n",
    "df_to_plot.sum().plot(kind='bar', figsize=(18, 5), rot=0, fontsize=14)\n",
    "\n",
    "# default kind is 'line'\n",
    "# we sum to see big picture of amount of vehicle by types\n",
    "# figsize controls size of the plot, width is max at ~18 and height can be calculated as ratio\n",
    "# rot is rotation of x axis label, default at 90\n",
    "# fontsize controls overall font size of the plot"
   ]
  },
  {
   "cell_type": "code",
   "execution_count": null,
   "metadata": {},
   "outputs": [],
   "source": [
    "# you can see the x axis labels doesn't look good, so we will change column name before plotting\n",
    "\n",
    "df_to_plot.columns.tolist()"
   ]
  },
  {
   "cell_type": "code",
   "execution_count": null,
   "metadata": {},
   "outputs": [],
   "source": [
    "# here we loop through list of old column names and chop out only the keyword of vehicle type\n",
    "# - split without argument ignore all spaces \n",
    "# - [x for x in LIST] returns list of item in LIST, we can do anything to first x in the []\n",
    "# - [-1] is an index of last element in list or array in Python language\n",
    "\n",
    "new_col = [item.split()[-1] for item in df_to_plot.columns.tolist()]\n",
    "\n",
    "# you can uncomment below line to see the result \n",
    "# print(new_col)\n",
    "\n",
    "# we the assign new column names to the old df\n",
    "\n",
    "df_to_plot.columns = new_col"
   ]
  },
  {
   "cell_type": "code",
   "execution_count": null,
   "metadata": {},
   "outputs": [],
   "source": [
    "# plot again\n",
    "df_to_plot.sum().plot(kind='bar', figsize=(18, 5), rot=0, fontsize=14)"
   ]
  },
  {
   "cell_type": "code",
   "execution_count": null,
   "metadata": {},
   "outputs": [],
   "source": [
    "# or plot as a line\n",
    "df_to_plot.sum().plot(figsize=(18, 5), fontsize=14)"
   ]
  },
  {
   "cell_type": "markdown",
   "metadata": {},
   "source": [
    "\n",
    "\n",
    "# Student part\n",
    "\n",
    "- Visualize any data from `data/` or example data from [`scikit-learn`](http://scikit-learn.org/stable/datasets/index.html) or [`scikit-image`](http://scikit-image.org/docs/dev/auto_examples/).\n",
    "- Do your best and DO NOT copy from your friends.\n",
    "- 3 Things to do: Load, Process and Visualize.\n",
    "- Processing step doesn't have to be complex, just simple function like sum and average are ok. But feel free to show your advance skill as much as you want would be best.\n",
    "- Your advance knowledge would be a plus in this class."
   ]
  },
  {
   "cell_type": "code",
   "execution_count": null,
   "metadata": {},
   "outputs": [],
   "source": []
  },
  {
   "cell_type": "code",
   "execution_count": null,
   "metadata": {},
   "outputs": [],
   "source": []
  },
  {
   "cell_type": "code",
   "execution_count": null,
   "metadata": {},
   "outputs": [],
   "source": []
  },
  {
   "cell_type": "code",
   "execution_count": null,
   "metadata": {},
   "outputs": [],
   "source": []
  },
  {
   "cell_type": "code",
   "execution_count": null,
   "metadata": {},
   "outputs": [],
   "source": []
  }
 ],
 "metadata": {
  "language_info": {
   "name": "python",
   "pygments_lexer": "ipython3"
  }
 },
 "nbformat": 4,
 "nbformat_minor": 2
}
