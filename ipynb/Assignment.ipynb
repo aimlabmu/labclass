{
 "cells": [
  {
   "cell_type": "markdown",
   "metadata": {},
   "source": [
    "# Assignment\n",
    "\n",
    "The assignment requires you to use some libraries other than what we have learnt today such as [SciPy](https://docs.scipy.org/doc/scipy/reference/index.html) and [scikit-image](http://scikit-image.org/). Three main tasks that you are going to do are **Loading data**, **Processing or Analysis**, and **Visualization**.\n",
    "\n",
    "## Loading data\n",
    "\n",
    "- There are several data set available in [the cloud storage](). The data is in `.csv` format.\n",
    "- You can also use example images from [scikit-image data module](http://scikit-image.org/docs/stable/api/skimage.data.html).\n",
    "\n",
    "## Processing or Analysis\n",
    "\n",
    "\n",
    "\n",
    "## Visualization"
   ]
  },
  {
   "cell_type": "code",
   "execution_count": null,
   "metadata": {},
   "outputs": [],
   "source": [
    "ls ../data"
   ]
  },
  {
   "cell_type": "code",
   "execution_count": null,
   "metadata": {},
   "outputs": [],
   "source": [
    "import numpy as np\n",
    "import pandas as pd\n",
    "import matplotlib.pyplot as plt\n",
    "from os import pardir, path\n",
    "%matplotlib inline"
   ]
  },
  {
   "cell_type": "code",
   "execution_count": null,
   "metadata": {},
   "outputs": [],
   "source": [
    "def dp(dataFileName):\n",
    "    '''\n",
    "    This function is used to get full data path (dp) from data file name.\n",
    "    '''\n",
    "    return path.join(pardir, 'data', dataFileName)"
   ]
  },
  {
   "cell_type": "code",
   "execution_count": null,
   "metadata": {},
   "outputs": [],
   "source": [
    "df = pd.read_csv(dp('ปริมาณจราจร_2558.csv'), encoding='cp874')\n",
    "\n",
    "# df[df['สำนักทางหลวง'] == 'กรุงเทพฯ']\n",
    "df.columns.tolist()"
   ]
  },
  {
   "cell_type": "code",
   "execution_count": null,
   "metadata": {},
   "outputs": [],
   "source": [
    "df[df['แขวงทางหลวง DISTRICT'].isin(['ขท.กรุงเทพ'])]"
   ]
  }
 ],
 "metadata": {
  "language_info": {
   "name": "python",
   "pygments_lexer": "ipython3"
  }
 },
 "nbformat": 4,
 "nbformat_minor": 2
}
